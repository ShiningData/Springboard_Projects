{
 "cells": [
  {
   "cell_type": "markdown",
   "metadata": {},
   "source": [
    "                                          GOOGLE Geocoding API Project"
   ]
  },
  {
   "cell_type": "code",
   "execution_count": 1,
   "metadata": {},
   "outputs": [],
   "source": [
    "# Import necessary packages"
   ]
  },
  {
   "cell_type": "code",
   "execution_count": 2,
   "metadata": {},
   "outputs": [],
   "source": [
    "import json\n",
    "import urllib.parse\n",
    "import requests"
   ]
  },
  {
   "cell_type": "code",
   "execution_count": 3,
   "metadata": {},
   "outputs": [],
   "source": [
    "# Personal API Key"
   ]
  },
  {
   "cell_type": "code",
   "execution_count": 4,
   "metadata": {},
   "outputs": [],
   "source": [
    "API_KEY = '------'"
   ]
  },
  {
   "cell_type": "code",
   "execution_count": 5,
   "metadata": {},
   "outputs": [],
   "source": [
    "# Program sends requested address to Google Geocoding API and returns the detailed address information.\n",
    "# Users enters 'q' or 'quit' to quit from the program."
   ]
  },
  {
   "cell_type": "code",
   "execution_count": null,
   "metadata": {},
   "outputs": [
    {
     "name": "stdout",
     "output_type": "stream",
     "text": [
      "Please Enter Address: 10013\n",
      "https://maps.googleapis.com/maps/api/geocode/json?address=10013\n",
      "API Status: OK\n",
      "\n",
      "10013\n",
      "Manhattan\n",
      "New York\n",
      "New York County\n",
      "New York\n",
      "United States\n",
      "\n",
      "New York, NY 10013, USA\n"
     ]
    }
   ],
   "source": [
    "while True:\n",
    "    address = input('Please Enter Address: ')\n",
    "    \n",
    "    if address == 'quit' or address == 'q':\n",
    "        break\n",
    "    \n",
    "    #Web pages address for requests\n",
    "    main_api = 'https://maps.googleapis.com/maps/api/geocode/json?'   \n",
    "    url_p = main_api + urllib.parse.urlencode({'address': address})\n",
    "    url = main_api + urllib.parse.urlencode({'address': address}) + '&key=' + API_KEY\n",
    "    print(url_p)\n",
    "    \n",
    "    #Incoming data from API\n",
    "    json_data = requests.get(url).json()\n",
    "    \n",
    "    #Check API status\n",
    "    json_status = json_data['status']\n",
    "    print('API Status: ' + json_status + '\\n')\n",
    "    \n",
    "    if json_status == 'OK':\n",
    "        for each in json_data['results'][0]['address_components']:\\\n",
    "            print(each['long_name'])\n",
    "            \n",
    "        formatted_address = json_data['results'][0]['formatted_address']\n",
    "        print()\n",
    "        print(formatted_address)"
   ]
  }
 ],
 "metadata": {
  "kernelspec": {
   "display_name": "Python 3",
   "language": "python",
   "name": "python3"
  },
  "language_info": {
   "codemirror_mode": {
    "name": "ipython",
    "version": 3
   },
   "file_extension": ".py",
   "mimetype": "text/x-python",
   "name": "python",
   "nbconvert_exporter": "python",
   "pygments_lexer": "ipython3",
   "version": "3.6.5"
  }
 },
 "nbformat": 4,
 "nbformat_minor": 2
}
