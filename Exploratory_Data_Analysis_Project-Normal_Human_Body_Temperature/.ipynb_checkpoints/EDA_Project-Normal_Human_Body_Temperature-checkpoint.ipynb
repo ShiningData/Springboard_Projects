{
 "cells": [
  {
   "cell_type": "markdown",
   "metadata": {},
   "source": [
    "# What is the True Normal Human Body Temperature? \n",
    "\n",
    "The mean normal body temperature was held to be 37$^{\\circ}$C or 98.6$^{\\circ}$F for more than 120 years since it was first conceptualized and reported by Carl Wunderlich in a famous 1868 book. But, is this value statistically correct? \n",
    "\n",
    "In this exploratory data analysis project, the focus will be to analyze a dataset of human body temperatures and employ the concepts of hypothesis testing, confidence intervals, and statistical significance by finding answers for the following questions related to the given dataset. "
   ]
  },
  {
   "cell_type": "markdown",
   "metadata": {},
   "source": [
    "## Getting familiar with the data"
   ]
  },
  {
   "cell_type": "code",
   "execution_count": 1,
   "metadata": {},
   "outputs": [],
   "source": [
    "# Import required packages:\n",
    "import pandas as pd\n",
    "import numpy as np\n",
    "import matplotlib.pyplot as plt\n",
    "%matplotlib inline\n",
    "import seaborn as sns\n",
    "from scipy import stats"
   ]
  },
  {
   "cell_type": "code",
   "execution_count": 2,
   "metadata": {},
   "outputs": [],
   "source": [
    "# Read and save dataset as a dataframe:\n",
    "df = pd.read_csv('data/human_body_temperature.csv')"
   ]
  },
  {
   "cell_type": "code",
   "execution_count": 3,
   "metadata": {},
   "outputs": [
    {
     "name": "stdout",
     "output_type": "stream",
     "text": [
      "<class 'pandas.core.frame.DataFrame'>\n",
      "RangeIndex: 130 entries, 0 to 129\n",
      "Data columns (total 3 columns):\n",
      "temperature    130 non-null float64\n",
      "gender         130 non-null object\n",
      "heart_rate     130 non-null float64\n",
      "dtypes: float64(2), object(1)\n",
      "memory usage: 3.1+ KB\n"
     ]
    }
   ],
   "source": [
    "# Inspect the dataframe\n",
    "df.info()"
   ]
  },
  {
   "cell_type": "code",
   "execution_count": 4,
   "metadata": {},
   "outputs": [
    {
     "data": {
      "text/html": [
       "<div>\n",
       "<style scoped>\n",
       "    .dataframe tbody tr th:only-of-type {\n",
       "        vertical-align: middle;\n",
       "    }\n",
       "\n",
       "    .dataframe tbody tr th {\n",
       "        vertical-align: top;\n",
       "    }\n",
       "\n",
       "    .dataframe thead th {\n",
       "        text-align: right;\n",
       "    }\n",
       "</style>\n",
       "<table border=\"1\" class=\"dataframe\">\n",
       "  <thead>\n",
       "    <tr style=\"text-align: right;\">\n",
       "      <th></th>\n",
       "      <th>temperature</th>\n",
       "      <th>gender</th>\n",
       "      <th>heart_rate</th>\n",
       "    </tr>\n",
       "  </thead>\n",
       "  <tbody>\n",
       "    <tr>\n",
       "      <th>0</th>\n",
       "      <td>99.3</td>\n",
       "      <td>F</td>\n",
       "      <td>68.0</td>\n",
       "    </tr>\n",
       "    <tr>\n",
       "      <th>1</th>\n",
       "      <td>98.4</td>\n",
       "      <td>F</td>\n",
       "      <td>81.0</td>\n",
       "    </tr>\n",
       "    <tr>\n",
       "      <th>2</th>\n",
       "      <td>97.8</td>\n",
       "      <td>M</td>\n",
       "      <td>73.0</td>\n",
       "    </tr>\n",
       "    <tr>\n",
       "      <th>3</th>\n",
       "      <td>99.2</td>\n",
       "      <td>F</td>\n",
       "      <td>66.0</td>\n",
       "    </tr>\n",
       "    <tr>\n",
       "      <th>4</th>\n",
       "      <td>98.0</td>\n",
       "      <td>F</td>\n",
       "      <td>73.0</td>\n",
       "    </tr>\n",
       "    <tr>\n",
       "      <th>5</th>\n",
       "      <td>99.2</td>\n",
       "      <td>M</td>\n",
       "      <td>83.0</td>\n",
       "    </tr>\n",
       "    <tr>\n",
       "      <th>6</th>\n",
       "      <td>98.0</td>\n",
       "      <td>M</td>\n",
       "      <td>71.0</td>\n",
       "    </tr>\n",
       "    <tr>\n",
       "      <th>7</th>\n",
       "      <td>98.8</td>\n",
       "      <td>M</td>\n",
       "      <td>78.0</td>\n",
       "    </tr>\n",
       "    <tr>\n",
       "      <th>8</th>\n",
       "      <td>98.4</td>\n",
       "      <td>F</td>\n",
       "      <td>84.0</td>\n",
       "    </tr>\n",
       "    <tr>\n",
       "      <th>9</th>\n",
       "      <td>98.6</td>\n",
       "      <td>F</td>\n",
       "      <td>86.0</td>\n",
       "    </tr>\n",
       "  </tbody>\n",
       "</table>\n",
       "</div>"
      ],
      "text/plain": [
       "   temperature gender  heart_rate\n",
       "0         99.3      F        68.0\n",
       "1         98.4      F        81.0\n",
       "2         97.8      M        73.0\n",
       "3         99.2      F        66.0\n",
       "4         98.0      F        73.0\n",
       "5         99.2      M        83.0\n",
       "6         98.0      M        71.0\n",
       "7         98.8      M        78.0\n",
       "8         98.4      F        84.0\n",
       "9         98.6      F        86.0"
      ]
     },
     "execution_count": 4,
     "metadata": {},
     "output_type": "execute_result"
    }
   ],
   "source": [
    "df.head(10)"
   ]
  },
  {
   "cell_type": "code",
   "execution_count": 5,
   "metadata": {},
   "outputs": [
    {
     "data": {
      "text/plain": [
       "temperature    0\n",
       "gender         0\n",
       "heart_rate     0\n",
       "dtype: int64"
      ]
     },
     "execution_count": 5,
     "metadata": {},
     "output_type": "execute_result"
    }
   ],
   "source": [
    "# Count null values for each column in the dataframe\n",
    "df.isnull().sum()"
   ]
  },
  {
   "cell_type": "markdown",
   "metadata": {},
   "source": [
    "#### As it is seen above, there is no null value in the data set. "
   ]
  },
  {
   "cell_type": "code",
   "execution_count": 6,
   "metadata": {
    "scrolled": true
   },
   "outputs": [
    {
     "data": {
      "text/html": [
       "<div>\n",
       "<style scoped>\n",
       "    .dataframe tbody tr th:only-of-type {\n",
       "        vertical-align: middle;\n",
       "    }\n",
       "\n",
       "    .dataframe tbody tr th {\n",
       "        vertical-align: top;\n",
       "    }\n",
       "\n",
       "    .dataframe thead th {\n",
       "        text-align: right;\n",
       "    }\n",
       "</style>\n",
       "<table border=\"1\" class=\"dataframe\">\n",
       "  <thead>\n",
       "    <tr style=\"text-align: right;\">\n",
       "      <th></th>\n",
       "      <th>temperature</th>\n",
       "      <th>gender</th>\n",
       "      <th>heart_rate</th>\n",
       "    </tr>\n",
       "  </thead>\n",
       "  <tbody>\n",
       "    <tr>\n",
       "      <th>7</th>\n",
       "      <td>98.8</td>\n",
       "      <td>M</td>\n",
       "      <td>78.0</td>\n",
       "    </tr>\n",
       "    <tr>\n",
       "      <th>54</th>\n",
       "      <td>98.2</td>\n",
       "      <td>F</td>\n",
       "      <td>73.0</td>\n",
       "    </tr>\n",
       "    <tr>\n",
       "      <th>72</th>\n",
       "      <td>98.0</td>\n",
       "      <td>M</td>\n",
       "      <td>78.0</td>\n",
       "    </tr>\n",
       "    <tr>\n",
       "      <th>75</th>\n",
       "      <td>98.8</td>\n",
       "      <td>M</td>\n",
       "      <td>78.0</td>\n",
       "    </tr>\n",
       "    <tr>\n",
       "      <th>87</th>\n",
       "      <td>98.0</td>\n",
       "      <td>M</td>\n",
       "      <td>78.0</td>\n",
       "    </tr>\n",
       "    <tr>\n",
       "      <th>127</th>\n",
       "      <td>98.2</td>\n",
       "      <td>F</td>\n",
       "      <td>73.0</td>\n",
       "    </tr>\n",
       "  </tbody>\n",
       "</table>\n",
       "</div>"
      ],
      "text/plain": [
       "     temperature gender  heart_rate\n",
       "7           98.8      M        78.0\n",
       "54          98.2      F        73.0\n",
       "72          98.0      M        78.0\n",
       "75          98.8      M        78.0\n",
       "87          98.0      M        78.0\n",
       "127         98.2      F        73.0"
      ]
     },
     "execution_count": 6,
     "metadata": {},
     "output_type": "execute_result"
    }
   ],
   "source": [
    "# Inspect the duplicate observations\n",
    "df[df.duplicated(keep=False)]"
   ]
  },
  {
   "cell_type": "markdown",
   "metadata": {},
   "source": [
    "#### Although indexing of records above looks like there is a duplication, In this particular case, I assume that these observations are apparent and they are just a coincidence. For that reason, I will not drop these records and keep them in my project solution. "
   ]
  },
  {
   "cell_type": "code",
   "execution_count": 7,
   "metadata": {},
   "outputs": [
    {
     "name": "stdout",
     "output_type": "stream",
     "text": [
      "The statistics of the data set:\n",
      "       temperature  heart_rate\n",
      "count   130.000000  130.000000\n",
      "mean     98.249231   73.761538\n",
      "std       0.733183    7.062077\n",
      "min      96.300000   57.000000\n",
      "25%      97.800000   69.000000\n",
      "50%      98.300000   74.000000\n",
      "75%      98.700000   79.000000\n",
      "max     100.800000   89.000000\n"
     ]
    }
   ],
   "source": [
    "# Check out the statistics for the data sets\n",
    "print('The statistics of the data set:')\n",
    "print(df.describe())"
   ]
  },
  {
   "cell_type": "markdown",
   "metadata": {},
   "source": [
    "**By looking mean and max/min values of temperature and heart rate, it gives me impression that both of them show a normal distribution appearance.**"
   ]
  },
  {
   "cell_type": "code",
   "execution_count": 8,
   "metadata": {},
   "outputs": [
    {
     "name": "stdout",
     "output_type": "stream",
     "text": [
      "The statistics of the male data set:\n",
      "       temperature  heart_rate\n",
      "count    65.000000   65.000000\n",
      "mean     98.104615   73.369231\n",
      "std       0.698756    5.875184\n",
      "min      96.300000   58.000000\n",
      "25%      97.600000   70.000000\n",
      "50%      98.100000   73.000000\n",
      "75%      98.600000   78.000000\n",
      "max      99.500000   86.000000\n"
     ]
    }
   ],
   "source": [
    "print('The statistics of the male data set:')\n",
    "print(df[df.gender=='M'].describe())"
   ]
  },
  {
   "cell_type": "code",
   "execution_count": 9,
   "metadata": {},
   "outputs": [
    {
     "name": "stdout",
     "output_type": "stream",
     "text": [
      "The statistics of the female data set:\n",
      "       temperature  heart_rate\n",
      "count    65.000000   65.000000\n",
      "mean     98.393846   74.153846\n",
      "std       0.743488    8.105227\n",
      "min      96.400000   57.000000\n",
      "25%      98.000000   68.000000\n",
      "50%      98.400000   76.000000\n",
      "75%      98.800000   80.000000\n",
      "max     100.800000   89.000000\n"
     ]
    }
   ],
   "source": [
    "print('The statistics of the female data set:')\n",
    "print(df[df.gender=='F'].describe())"
   ]
  },
  {
   "cell_type": "markdown",
   "metadata": {},
   "source": [
    "##### In this statistical search, it is observed that female mean and standard error is higher than male mean and standard deviation. "
   ]
  },
  {
   "cell_type": "markdown",
   "metadata": {},
   "source": [
    "**Let's visualize the dataset to have more intuition on it.**"
   ]
  },
  {
   "cell_type": "markdown",
   "metadata": {},
   "source": [
    "##### Gender and Temperature:"
   ]
  },
  {
   "cell_type": "code",
   "execution_count": 10,
   "metadata": {},
   "outputs": [
    {
     "data": {
      "image/png": "[encoded data removed]",
      "text/plain": [
       "<Figure size 720x504 with 1 Axes>"
      ]
     },
     "metadata": {},
     "output_type": "display_data"
    }
   ],
   "source": [
    "plt.figure(figsize = (10,7))\n",
    "_ = sns.swarmplot(x = 'gender', y = 'temperature', data = df)\n",
    "_ = sns.boxplot(x = 'gender', y = 'temperature', data = df, boxprops = {'facecolor':'None'})\n",
    "_ = plt.title('Gender and Body Temperature Swarm-Box Plot')\n",
    "_ = plt.xlabel('Gender')\n",
    "_ = plt.ylabel('Body Temperature($^.\\circ$F)')"
   ]
  },
  {
   "cell_type": "markdown",
   "metadata": {},
   "source": [
    "##### Gender and Heart Rate:"
   ]
  },
  {
   "cell_type": "code",
   "execution_count": 12,
   "metadata": {},
   "outputs": [
    {
     "data": {
      "image/png": "[encoded data removed]",
      "text/plain": [
       "<Figure size 720x504 with 1 Axes>"
      ]
     },
     "metadata": {},
     "output_type": "display_data"
    }
   ],
   "source": [
    "plt.figure(figsize = (10,7))\n",
    "_ = sns.swarmplot(x = 'gender', y = 'heart_rate', data = df)\n",
    "_ = sns.boxplot(x = 'gender', y = 'heart_rate', data = df, boxprops = {'facecolor':'None'})\n",
    "_ = plt.title('Gender and Heart Rate Swarm-Box Plot')\n",
    "_ = plt.xlabel('Gender')\n",
    "_ = plt.ylabel('Heart Rate')"
   ]
  },
  {
   "cell_type": "markdown",
   "metadata": {},
   "source": [
    "## 1. Is the Distribution of Body Temperature Normal?"
   ]
  },
  {
   "cell_type": "markdown",
   "metadata": {},
   "source": [
    "Normal distributions are characterized as being:\n",
    "\n",
    "a. Symmetrical, \n",
    "\n",
    "b. Bell-shaped, \n",
    "\n",
    "c. 68.27%, 95.45% and 99.73% of the observations falling within one, two and three standard deviations of the mean, respectively."
   ]
  },
  {
   "cell_type": "code",
   "execution_count": 13,
   "metadata": {},
   "outputs": [
    {
     "name": "stderr",
     "output_type": "stream",
     "text": [
      "C:\\Users\\eturk\\Anaconda3\\lib\\site-packages\\matplotlib\\axes\\_axes.py:6462: UserWarning: The 'normed' kwarg is deprecated, and has been replaced by the 'density' kwarg.\n",
      "  warnings.warn(\"The 'normed' kwarg is deprecated, and has been \"\n"
     ]
    },
    {
     "data": {
      "image/png": "[encoded data removed]",
      "text/plain": [
       "<Figure size 432x288 with 2 Axes>"
      ]
     },
     "metadata": {},
     "output_type": "display_data"
    }
   ],
   "source": [
    "# Create a figure with two plots:\n",
    "fig, (boxplot, histogram) = plt.subplots(2, sharex=True, gridspec_kw={\"height_ratios\": (.15, .85)})\n",
    " \n",
    "# Add boxplot for temperature:\n",
    "sns.boxplot(df.temperature, ax = boxplot)\n",
    "\n",
    "# Add histogram for temperature:\n",
    "sns.distplot(df.temperature, ax = histogram)\n",
    "\n",
    "# Label axes and add title:\n",
    "plt.xlabel('Temperature ($^\\circ$F)', fontsize=10)\n",
    "plt.ylabel('PDF')\n",
    "plt.title('Distribution of Body Temperatures', fontsize=14)\n",
    "\n",
    "# Remove x-axis label for the boxplot:\n",
    "boxplot.set(xlabel = \" \")\n",
    "\n",
    "# Display the plots:\n",
    "plt.show()"
   ]
  },
  {
   "cell_type": "markdown",
   "metadata": {},
   "source": [
    "The distribution of body temperature appears to be roughly symmetrical and bell-shaped even though the outliers are present in the boxplot. For the sake of ruling out binning bias and comparison to a theoretical distribution, let's check the normality from data set. "
   ]
  },
  {
   "cell_type": "code",
   "execution_count": 18,
   "metadata": {},
   "outputs": [
    {
     "name": "stdout",
     "output_type": "stream",
     "text": [
      "Sample Size(n) = 130 \n",
      "Sample Mean(M) = 98.24923076923078 \n",
      "Sample Standart Deviation(s) = 0.7303577789050377\n"
     ]
    }
   ],
   "source": [
    "# Compute and save variables for summarizing the emprical distribution\n",
    "\n",
    "n = len(df.temperature)\n",
    "\n",
    "M = np.mean(df.temperature)\n",
    "\n",
    "s = np.std(df.temperature)\n",
    "\n",
    "print('Sample Size(n) =', n, '\\nSample Mean(M) =', M, '\\nSample Standart Deviation(s) =', s)"
   ]
  },
  {
   "cell_type": "code",
   "execution_count": 19,
   "metadata": {},
   "outputs": [],
   "source": [
    "# Define a function to compute the CDF\n",
    "\n",
    "def ecdf(data):\n",
    "    \"\"\"Compute ECDF for a one-dimensional array of measurements.\"\"\"\n",
    "    \n",
    "    # Number of data points: n\n",
    "    n= len(data)\n",
    "    \n",
    "    # x-data for the ECDF: x\n",
    "    x = np.sort(data)\n",
    "    \n",
    "    # y-data for the ECDF: y\n",
    "    y = np.arange(1, n+1) / float(n)\n",
    "    \n",
    "    return x, y"
   ]
  },
  {
   "cell_type": "code",
   "execution_count": 20,
   "metadata": {},
   "outputs": [],
   "source": [
    "# Seed the random number generator\n",
    "np.random.seed(15)\n",
    "\n",
    "# Simulate a random sample with the same statistics and size of 10000\n",
    "normal = np.random.normal(M, s, 10000)"
   ]
  },
  {
   "cell_type": "code",
   "execution_count": 21,
   "metadata": {},
   "outputs": [
    {
     "data": {
      "image/png": "[encoded data removed]",
      "text/plain": [
       "<Figure size 432x288 with 1 Axes>"
      ]
     },
     "metadata": {},
     "output_type": "display_data"
    }
   ],
   "source": [
    "# Compute CDFs\n",
    "x_temp, y_temp = ecdf(df.temperature)\n",
    "x_norm, y_norm = ecdf(normal)\n",
    "\n",
    "# Plot both CDFs on the same plot\n",
    "_ = plt.plot(x_norm, y_norm)\n",
    "_ = plt.plot(x_temp, y_temp, marker = '.', linestyle = 'none')\n",
    "\n",
    "# Label axes and and add legend/title\n",
    "_ = plt.xlabel('Temperature ($^\\circ$F)', fontsize=14)\n",
    "_ = plt.ylabel('CDF')\n",
    "_ = plt.legend(('Theoretical Normal CDF', 'Sample CDF'), loc = 'center right')\n",
    "_ = plt.title('CDF Confirming the Normal Distribution of Body Temperatures', fontsize=18)\n",
    "\n",
    "# Save and display the plots\n",
    "plt.savefig('cdf_body_temps.png')\n",
    "plt.show()"
   ]
  },
  {
   "cell_type": "markdown",
   "metadata": {},
   "source": [
    "In the above plot, the blue solid line represents the empirical cumulative distribution of body temperatures given the sample mean and sample standard deviation and modeled as a normal distribution.\n",
    "\n",
    "The green dots represent the ECDF of body temperatures from the sample data. We also see that the ECDF of the sample data is very closely aligned with the ECDF of a presumed normal distribution.\n",
    "\n",
    "For the sake of thoroughness, let us also check to see if the sample set confirms to the 68.27%, 95.45% and 99.73% rule.  "
   ]
  },
  {
   "cell_type": "code",
   "execution_count": 16,
   "metadata": {},
   "outputs": [
    {
     "name": "stdout",
     "output_type": "stream",
     "text": [
      "The mean of human temperature data set: 98.24923076923078\n",
      "The standard deviation in human temperature data set: 0.7303577789050377\n"
     ]
    }
   ],
   "source": [
    "# Sample mean and standard deviation\n",
    "print(\"The mean of human temperature data set: {}\".format(M))\n",
    "print(\"The standard deviation in human temperature data set: {}\".format(s))"
   ]
  },
  {
   "cell_type": "code",
   "execution_count": 17,
   "metadata": {},
   "outputs": [
    {
     "name": "stdout",
     "output_type": "stream",
     "text": [
      "Number  of observations within three standard deviations of the mean: 129\n",
      "Total number of observations is 130\n",
      "Proportion of observations within three standard deviations of the mean: 0.9923076923076923\n"
     ]
    }
   ],
   "source": [
    "np_temp = df.temperature.values\n",
    "num_obs = len(np_temp[(np_temp > M-3*s) & (np_temp < M+3*s)])\n",
    "print('Number  of observations within three standard deviations of the mean: {}'.format(num_obs))\n",
    "print(\"Total number of observations is {}\".format(len(df)))\n",
    "prop_obs = float(num_obs) / len(np_temp)\n",
    "print('Proportion of observations within three standard deviations of the mean: {}'.format(prop_obs))"
   ]
  },
  {
   "cell_type": "code",
   "execution_count": 22,
   "metadata": {},
   "outputs": [
    {
     "name": "stdout",
     "output_type": "stream",
     "text": [
      "Number  of observations within three standard deviations of the mean: 123\n",
      "Total number of observations is 130\n",
      "Proportion of observations within three standard deviations of the mean: 0.9461538461538461\n"
     ]
    }
   ],
   "source": [
    "np_temp = df.temperature.values\n",
    "num_obs = len(np_temp[(np_temp > M-2*s) & (np_temp < M+2*s)])\n",
    "print('Number  of observations within three standard deviations of the mean: {}'.format(num_obs))\n",
    "print(\"Total number of observations is {}\".format(len(df)))\n",
    "prop_obs = float(num_obs) / len(np_temp)\n",
    "print('Proportion of observations within three standard deviations of the mean: {}'.format(prop_obs))"
   ]
  },
  {
   "cell_type": "code",
   "execution_count": 23,
   "metadata": {},
   "outputs": [
    {
     "name": "stdout",
     "output_type": "stream",
     "text": [
      "Number  of observations within three standard deviations of the mean: 90\n",
      "Total number of observations is 130\n",
      "Proportion of observations within three standard deviations of the mean: 0.6923076923076923\n"
     ]
    }
   ],
   "source": [
    "np_temp = df.temperature.values\n",
    "num_obs = len(np_temp[(np_temp > M-s) & (np_temp < M+s)])\n",
    "print('Number  of observations within three standard deviations of the mean: {}'.format(num_obs))\n",
    "print(\"Total number of observations is {}\".format(len(df)))\n",
    "prop_obs = float(num_obs) / len(np_temp)\n",
    "print('Proportion of observations within three standard deviations of the mean: {}'.format(prop_obs))"
   ]
  },
  {
   "cell_type": "markdown",
   "metadata": {},
   "source": [
    "### Conclusion: \n",
    "\n",
    "The distribution of the observations is roughly symmetrical, bell-shaped, and the CDF of the sample data is closely aligned with a CDF of a sample set that is modeled as a normal distribution. Besides all, the sample set conforms to the characteristic that 68% of observations are within 1 standard deviation, 95% of observations are within 2 standard deviations and 99% of observations are within 3 standard deviations. Based on all these observations, we can say that distribution of body temperature is normal.  "
   ]
  },
  {
   "cell_type": "markdown",
   "metadata": {},
   "source": [
    "## 2. Is the sample size large? Are the observations independent? "
   ]
  },
  {
   "cell_type": "markdown",
   "metadata": {},
   "source": [
    "#### The sample size, 130, for the body temperature dataset is greater than 30 which is considered large."
   ]
  },
  {
   "cell_type": "code",
   "execution_count": 19,
   "metadata": {},
   "outputs": [
    {
     "data": {
      "text/html": [
       "<div>\n",
       "<style scoped>\n",
       "    .dataframe tbody tr th:only-of-type {\n",
       "        vertical-align: middle;\n",
       "    }\n",
       "\n",
       "    .dataframe tbody tr th {\n",
       "        vertical-align: top;\n",
       "    }\n",
       "\n",
       "    .dataframe thead th {\n",
       "        text-align: right;\n",
       "    }\n",
       "</style>\n",
       "<table border=\"1\" class=\"dataframe\">\n",
       "  <thead>\n",
       "    <tr style=\"text-align: right;\">\n",
       "      <th></th>\n",
       "      <th>temperature</th>\n",
       "      <th>gender</th>\n",
       "      <th>heart_rate</th>\n",
       "    </tr>\n",
       "  </thead>\n",
       "  <tbody>\n",
       "    <tr>\n",
       "      <th>0</th>\n",
       "      <td>99.3</td>\n",
       "      <td>F</td>\n",
       "      <td>68.0</td>\n",
       "    </tr>\n",
       "    <tr>\n",
       "      <th>1</th>\n",
       "      <td>98.4</td>\n",
       "      <td>F</td>\n",
       "      <td>81.0</td>\n",
       "    </tr>\n",
       "    <tr>\n",
       "      <th>2</th>\n",
       "      <td>97.8</td>\n",
       "      <td>M</td>\n",
       "      <td>73.0</td>\n",
       "    </tr>\n",
       "    <tr>\n",
       "      <th>3</th>\n",
       "      <td>99.2</td>\n",
       "      <td>F</td>\n",
       "      <td>66.0</td>\n",
       "    </tr>\n",
       "    <tr>\n",
       "      <th>4</th>\n",
       "      <td>98.0</td>\n",
       "      <td>F</td>\n",
       "      <td>73.0</td>\n",
       "    </tr>\n",
       "    <tr>\n",
       "      <th>5</th>\n",
       "      <td>99.2</td>\n",
       "      <td>M</td>\n",
       "      <td>83.0</td>\n",
       "    </tr>\n",
       "    <tr>\n",
       "      <th>6</th>\n",
       "      <td>98.0</td>\n",
       "      <td>M</td>\n",
       "      <td>71.0</td>\n",
       "    </tr>\n",
       "    <tr>\n",
       "      <th>7</th>\n",
       "      <td>98.8</td>\n",
       "      <td>M</td>\n",
       "      <td>78.0</td>\n",
       "    </tr>\n",
       "    <tr>\n",
       "      <th>8</th>\n",
       "      <td>98.4</td>\n",
       "      <td>F</td>\n",
       "      <td>84.0</td>\n",
       "    </tr>\n",
       "    <tr>\n",
       "      <th>9</th>\n",
       "      <td>98.6</td>\n",
       "      <td>F</td>\n",
       "      <td>86.0</td>\n",
       "    </tr>\n",
       "  </tbody>\n",
       "</table>\n",
       "</div>"
      ],
      "text/plain": [
       "   temperature gender  heart_rate\n",
       "0         99.3      F        68.0\n",
       "1         98.4      F        81.0\n",
       "2         97.8      M        73.0\n",
       "3         99.2      F        66.0\n",
       "4         98.0      F        73.0\n",
       "5         99.2      M        83.0\n",
       "6         98.0      M        71.0\n",
       "7         98.8      M        78.0\n",
       "8         98.4      F        84.0\n",
       "9         98.6      F        86.0"
      ]
     },
     "execution_count": 19,
     "metadata": {},
     "output_type": "execute_result"
    }
   ],
   "source": [
    "df.head(10)"
   ]
  },
  {
   "cell_type": "markdown",
   "metadata": {},
   "source": [
    "#### Conclusion for determining observations' independence: \n",
    "\n",
    "Two observations are independent if the occurrence of one observation provides no information about the occurrence of the other observation. The statistical assumption of independence of observations stipulates that all participants in a sample are only counted once. If a participant was to appear multiple times in a sample, each time as an independent observation, then the statistics would be artificially skewed in their favor and not be representative of a true sample of independent participants. In terms of those particular observations, we are unable to assume them are independent as it is not evident whether these observations are unique people (and thus independent) or just periodic sampling of one male and one female subject. \n",
    "\n",
    "Furthermore, one can infer that heart rate can be a factor which affects body temperature.Let's check their correlation between each other."
   ]
  },
  {
   "cell_type": "code",
   "execution_count": 24,
   "metadata": {},
   "outputs": [
    {
     "data": {
      "image/png": "[encoded data removed]",
      "text/plain": [
       "<Figure size 720x432 with 1 Axes>"
      ]
     },
     "metadata": {},
     "output_type": "display_data"
    }
   ],
   "source": [
    "# Look at the correlation between body temperature and heart rate\n",
    "\n",
    "sns.set()\n",
    "plt.figure(figsize = (10,6))\n",
    "_ = plt.scatter(df.temperature[df.gender =='M'], df.heart_rate[df.gender == 'M'], color = 'blue', marker = '.', norm = True)\n",
    "_ = plt.scatter(df.temperature[df.gender =='F'], df.heart_rate[df.gender == 'F'], color = 'red', marker = '.', norm = True)\n",
    "\n",
    "xm, ym = np.polyfit(df[df.gender=='M']['temperature'], df[df.gender=='M']['heart_rate'], 1)\n",
    "xf, yf = np.polyfit(df[df.gender=='F']['temperature'], df[df.gender=='F']['heart_rate'], 1)\n",
    "\n",
    "# Make theoretical line to plot\n",
    "x = np.array([95,102])\n",
    "y_m = xm * x + ym\n",
    "y_f = xf * x + yf\n",
    "\n",
    "# Add regression line to your plot\n",
    "_ = plt.plot(x, y_m, color='blue')\n",
    "_ = plt.plot(x, y_f, color='red')\n",
    "_ = plt.legend(('Male','Female'))\n",
    "_ = plt.xlabel(\"Body Temperature($^\\circ$F)\")\n",
    "_ = plt.ylabel(\"Heart Rate\")\n",
    "_ = plt.title('Correlation Between Body Temperature and Heart Rate')\n",
    "plt.margins(0.02)"
   ]
  },
  {
   "cell_type": "markdown",
   "metadata": {},
   "source": [
    "#### There is a possitive correlation between independent observations, body temperature and health rate. Let's look at pearson correlation values of those independent observations."
   ]
  },
  {
   "cell_type": "code",
   "execution_count": 31,
   "metadata": {},
   "outputs": [
    {
     "name": "stdout",
     "output_type": "stream",
     "text": [
      "The pearson correlation of human temperature and heart rate in the data set: 0.2536564027207642\n",
      "The pearson correlation of human temperature and heart rate of Males in the data set: 0.19558937509687488\n",
      "The pearson correlation of human temperature and heart rate of Females in the data set: 0.28693115449711004\n"
     ]
    }
   ],
   "source": [
    "def pearson_r(x, y):\n",
    "    \"\"\"Compute Pearson correlation coefficient between two arrays.\"\"\"\n",
    "    \n",
    "    # Compute correlation matrix: corr_mat\n",
    "    corr_mat = np.corrcoef(x,y)\n",
    "    \n",
    "    # Return entry [0,1]\n",
    "    return corr_mat[0,1]\n",
    "\n",
    "print(\"The pearson correlation of human temperature and heart rate in the data set: {}\".format(pearson_r(df['temperature'],df['heart_rate'])))\n",
    "print(\"The pearson correlation of human temperature and heart rate of Males in the data set: {}\".format(pearson_r(df[df.gender == 'M']['temperature'], df[df.gender == 'M']['heart_rate'])))\n",
    "print(\"The pearson correlation of human temperature and heart rate of Females in the data set: {}\".format(pearson_r(df[df.gender == 'F']['temperature'], df[df.gender == 'F']['heart_rate'])))"
   ]
  },
  {
   "cell_type": "markdown",
   "metadata": {},
   "source": [
    "#### Pearson correlation values are very low. It may be interpreted as a weak uphill (positive) linear relationship between heart rate and body temperature. \n",
    "\n",
    "#### We may conclude from these studies that observations are independent. "
   ]
  },
  {
   "cell_type": "markdown",
   "metadata": {},
   "source": [
    "## 3. Is the true population mean really 98.6 degrees F? "
   ]
  },
  {
   "cell_type": "markdown",
   "metadata": {},
   "source": [
    "### a. First try a bootstrap hypothesis test. \n",
    "\n",
    "To investigate this question, we need to frame our hypothesis for testing."
   ]
  },
  {
   "cell_type": "markdown",
   "metadata": {},
   "source": [
    "(The null hypothesis) Ho: The population mean temperature = 98.6 F   (Ho: μ1 = μ2)\n",
    "\n",
    "(The alternative hypothesis) Ha: The population mean temperature ≠ 98.6 F  (H1: μ1 ≠ μ)"
   ]
  },
  {
   "cell_type": "code",
   "execution_count": 38,
   "metadata": {},
   "outputs": [],
   "source": [
    "# Define bootsrap functions\n",
    "\n",
    "def replicate(data, func):\n",
    "    \"\"\"Return replicate of a resampled data array\"\"\"\n",
    "    \n",
    "    # Create the resampled array and return the statistic of interest\n",
    "    return func(np.random.choice(data, size=len(data)))   \n",
    "\n",
    "def draw_replicates(data, func, size=1):\n",
    "    \"\"\"Draw bootstrap replicate\"\"\"\n",
    "    \n",
    "    # Initialize array of replicates\n",
    "    replicates = np.empty(size)\n",
    "    \n",
    "    # Generate replicates\n",
    "    for i in range(size):\n",
    "            replicates[i] = replicate(data, func)            \n",
    "    return replicates"
   ]
  },
  {
   "cell_type": "code",
   "execution_count": 39,
   "metadata": {},
   "outputs": [
    {
     "name": "stderr",
     "output_type": "stream",
     "text": [
      "C:\\Users\\eturk\\Anaconda3\\lib\\site-packages\\matplotlib\\axes\\_axes.py:6462: UserWarning: The 'normed' kwarg is deprecated, and has been replaced by the 'density' kwarg.\n",
      "  warnings.warn(\"The 'normed' kwarg is deprecated, and has been \"\n"
     ]
    },
    {
     "data": {
      "image/png": "[encoded data removed]",
      "text/plain": [
       "<Figure size 864x576 with 1 Axes>"
      ]
     },
     "metadata": {},
     "output_type": "display_data"
    }
   ],
   "source": [
    "temp_np_arr = np.array(df['temperature'])\n",
    "replicates  = draw_replicates(temp_np_arr, np.mean, 10000)\n",
    "plt.figure(figsize=(12,8))\n",
    "sns.distplot(replicates, rug='True', bins=20, color = 'red')\n",
    "plt.xlabel(' Mean Temperature ($^\\circ$F)', fontsize=14)\n",
    "plt.ylabel('PDF ', fontsize=14)\n",
    "plt.title('Distribution of Mean Temperature', fontsize=16)\n",
    "plt.show()"
   ]
  },
  {
   "cell_type": "code",
   "execution_count": 34,
   "metadata": {},
   "outputs": [
    {
     "name": "stdout",
     "output_type": "stream",
     "text": [
      "95% confidence interval = [98.12153846 98.37309615]\n"
     ]
    }
   ],
   "source": [
    "# Compute the confidence interval\n",
    "conf_int = np.percentile(replicates,[2.5, 97.5])\n",
    "\n",
    "# Print the confidence interval\n",
    "print('95% confidence interval =', conf_int)"
   ]
  },
  {
   "cell_type": "code",
   "execution_count": 35,
   "metadata": {},
   "outputs": [
    {
     "name": "stdout",
     "output_type": "stream",
     "text": [
      "p-value =  0.0\n"
     ]
    }
   ],
   "source": [
    "# Compute the p-value\n",
    "p = np.sum(replicates >= 98.6) / len(replicates)\n",
    "print ('p-value = ', p)"
   ]
  },
  {
   "cell_type": "markdown",
   "metadata": {},
   "source": [
    "#### Conclusion for the bootstrap hypothesis test: \n",
    "\n",
    "Since p-value is less than 0.05, we reject the null hypothesis in favor of the alternative hypothesis that the poulation mean differs from 98.6 F. Based on the 95% confidence interval, temperatures between 98.12 and 98.37 are considered normal."
   ]
  },
  {
   "cell_type": "markdown",
   "metadata": {},
   "source": [
    " ### b. Try frequentist statistical testing. Would you use a one-sample or two-sample test? Why?"
   ]
  },
  {
   "cell_type": "markdown",
   "metadata": {},
   "source": [
    "For this test, we will use a one-sample test since we are only given one sample data set. I have determined the hypothesis (with a confidence level of 95% as follows:\n",
    "\n",
    "        (The null hypothesis) Ho: The population mean temperature = 98.6 F   (Ho: μ1 = μ2)\n",
    "\n",
    "        (The alternative hypothesis) Ha: The population mean temperature ≠ 98.6 F  (H1: μ1 ≠ μ)"
   ]
  },
  {
   "cell_type": "markdown",
   "metadata": {},
   "source": [
    "For this situation, we will be computing a t-test since we are comparing our sample mean (98.25) against a proposed population mean (98.6). For the test, we will reject the null hypothesis if the test statistic is greater than 1.96 standard deviations or outside of a 95% confidence level)."
   ]
  },
  {
   "cell_type": "code",
   "execution_count": 30,
   "metadata": {},
   "outputs": [
    {
     "name": "stdout",
     "output_type": "stream",
     "text": [
      "t-statistic: -5.4548232923645195\n",
      "p-value: 2.4106320415561276e-07\n"
     ]
    }
   ],
   "source": [
    "# Use one-sample test with the null hypothesis that true population mean is 98.6\n",
    "# Since we do not know the population standard deviation, we will use t-statistic. \n",
    "\n",
    "t = stats.ttest_1samp(df.temperature, 98.6)[0]\n",
    "p = stats.ttest_1samp(df.temperature, 98.6)[1]\n",
    "\n",
    "print('t-statistic:', t)\n",
    "print('p-value:', p)"
   ]
  },
  {
   "cell_type": "markdown",
   "metadata": {},
   "source": [
    "#### Conclusion:\n",
    "\n",
    "Our test returns a t-statistic of 5.45. This means that we would observe a mean of 98.6 at 5.45 standard deviations from our sample mean.\n",
    "\n",
    "Furthermore, our P-value can be considered very small and suggests a very low probability of observing a body temperature of 98.6 or greater.\n",
    "\n",
    "As we increase our sample size, our t-test will converge to yield a similar result as a z-test.\n",
    "\n",
    "In the below test, we arrive to the same conclusion as the z-statistic suggests that a population mean of 98.6 would be observed more than 5 standard deviations from a population mean as determined by our sample. We find that our p-value in this test is even smaller than our t-test and suggests an even smaller probability that we would observe a population mean greater than 98.6"
   ]
  },
  {
   "cell_type": "code",
   "execution_count": 31,
   "metadata": {},
   "outputs": [
    {
     "name": "stdout",
     "output_type": "stream",
     "text": [
      "z-statistic: -5.475925202078116\n",
      "p-value: 4.3523151658821886e-08\n"
     ]
    }
   ],
   "source": [
    "# Calculate standard error of the mean:\n",
    "sem = s/np.sqrt(n)\n",
    "\n",
    "# Calculate and save z-statistic:\n",
    "z = (M - 98.6) / sem\n",
    "\n",
    "# Calculate and save p-value:\n",
    "p = stats.norm.cdf(z) * 2\n",
    "\n",
    "# Print the values for z and p:\n",
    "print('z-statistic:', z)\n",
    "print('p-value:', p)"
   ]
  },
  {
   "cell_type": "markdown",
   "metadata": {},
   "source": [
    "As expected, the z-statistic is very close to the t-statistic and the p-value is also very low. Both z and t test yields the same result that the confidence interval do not contain 98.6, therefore giving us the same result."
   ]
  },
  {
   "cell_type": "markdown",
   "metadata": {},
   "source": [
    "### c. In this situation, is it appropriate to use the t or z statistics?"
   ]
  },
  {
   "cell_type": "markdown",
   "metadata": {},
   "source": [
    "It is best to use a t-statistic since the population standard deviation is unknown. Though a t-test is best for small samples, it becomes similar to the z-test with large samples, so the results does not differ much as it may be seen above. "
   ]
  },
  {
   "cell_type": "markdown",
   "metadata": {},
   "source": [
    "### d. Try using the other test. How is the result be different? Why? "
   ]
  },
  {
   "cell_type": "markdown",
   "metadata": {},
   "source": [
    "Another test method is to generate many sets of simulated data assuming the null hypothesis is true, then compute the test statistic for each simulated dataset."
   ]
  },
  {
   "cell_type": "code",
   "execution_count": 40,
   "metadata": {},
   "outputs": [
    {
     "name": "stdout",
     "output_type": "stream",
     "text": [
      "p-value = 0.0\n"
     ]
    }
   ],
   "source": [
    "# Seed the random number generator:\n",
    "np.random.seed(15)\n",
    "\n",
    "# Make an array of translated temperatures:\n",
    "translated_temps = df.temperature - M + 98.6\n",
    "\n",
    "# Draw bootstrap replicates of translated temperatures:\n",
    "translated_replicates = draw_replicates(translated_temps, np.mean, 10000)\n",
    "\n",
    "# Compute fraction of replicates that are less than the observed temperature mean:\n",
    "p = np.sum(translated_replicates <= M) / len(translated_replicates)\n",
    "\n",
    "# Print the p-value:\n",
    "print('p-value =', p)"
   ]
  },
  {
   "cell_type": "markdown",
   "metadata": {},
   "source": [
    "#### Conclusion:\n",
    "\n",
    "In every test the p-value is significantly less than significance level (0.05), so the null hypothesis is rejected. There is sufficient evidence to warrant rejection of the claim that the true population mean is the normal human body temperature of 98.6°F."
   ]
  },
  {
   "cell_type": "markdown",
   "metadata": {},
   "source": [
    "## 4. Draw a small sample of size 10 from the data and repeat both frequentist tests. "
   ]
  },
  {
   "cell_type": "markdown",
   "metadata": {},
   "source": [
    "### a. Which one is the correct one to use?"
   ]
  },
  {
   "cell_type": "markdown",
   "metadata": {},
   "source": [
    "This test meets the criteria for a t-test: the population standard deviation is unkown and the sample size is small."
   ]
  },
  {
   "cell_type": "markdown",
   "metadata": {},
   "source": [
    "### b. What is noticeable? What does this say about the difference in application of the t and z statistic?"
   ]
  },
  {
   "cell_type": "markdown",
   "metadata": {},
   "source": [
    "#### t-statistic:"
   ]
  },
  {
   "cell_type": "code",
   "execution_count": 48,
   "metadata": {},
   "outputs": [
    {
     "name": "stdout",
     "output_type": "stream",
     "text": [
      "p-value: 0.0028\n",
      "t-statistic = 0.008060165111323982\n"
     ]
    }
   ],
   "source": [
    "# Randomly select a size 10 array: \n",
    "temp_array_sub = np.random.choice(temp_np_arr, size=10, replace=True)\n",
    "\n",
    "# Make an array of translated sample temperatures: translated_temp_sub\n",
    "translated_temp_sub = temp_array_sub - np.mean(temp_array_sub) + 98.6\n",
    "\n",
    "# Take bootstrap replicates of sampled body temperatures: temp_replicates_sub\n",
    "temp_replicates_sub = draw_replicates(translated_temp_sub, np.mean, 10000)\n",
    "\n",
    "# Compute fraction of replicates that are less than sampled body temperatures: p\n",
    "p = np.sum(temp_replicates_sub <= np.mean(temp_array_sub)) / float(10000)\n",
    "\n",
    "# Print the p-value\n",
    "print ('p-value: {}'.format(p))\n",
    "\n",
    "# t-test work \n",
    "sample_mean = np.mean(temp_array_sub) \n",
    "sample_std  = np.std(temp_array_sub)\n",
    "sample_size = len(temp_array_sub)\n",
    "mu_0 = 98.6\n",
    "t_statistic = (sample_mean - mu_0) / (sample_std / sample_size**0.5)\n",
    "\n",
    "from scipy import stats\n",
    "# Multiply by two for the two tailed test\n",
    "t_result = stats.norm.sf(abs(t_statistic))*2\n",
    "print('t-statistic = {}'.format(t_result))"
   ]
  },
  {
   "cell_type": "markdown",
   "metadata": {},
   "source": [
    "#### z-statistic:"
   ]
  },
  {
   "cell_type": "code",
   "execution_count": 42,
   "metadata": {},
   "outputs": [
    {
     "name": "stdout",
     "output_type": "stream",
     "text": [
      "z-statistic = 0.03444668235561102\n"
     ]
    }
   ],
   "source": [
    "# To conduct a z test we assume the population std is the same as the sample std\n",
    "population_std = np.std(temp_array_sub)\n",
    "z_statistic = (sample_mean - mu_0) / (population_std / sample_size**0.5)\n",
    "z_result = stats.norm.sf(abs(z_statistic))*2\n",
    "print('z-statistic = {}'.format(z_result))"
   ]
  },
  {
   "cell_type": "markdown",
   "metadata": {},
   "source": [
    "#### Conclusion: \n",
    "\n",
    "Each time once we run the code, we get different t, z statistics and p value since the sample size is too small to evaluate. Therefore z and t statistics are not reliable at this point."
   ]
  },
  {
   "cell_type": "markdown",
   "metadata": {},
   "source": [
    "## 5. At what temperature should we consider someone's temperature to be \"abnormal\"? "
   ]
  },
  {
   "cell_type": "markdown",
   "metadata": {},
   "source": [
    "We will get a 95% confidence interval according to the normal distribution to find out the outliers."
   ]
  },
  {
   "cell_type": "markdown",
   "metadata": {},
   "source": [
    "### a.Bootstrap Approach\n",
    "\n"
   ]
  },
  {
   "cell_type": "code",
   "execution_count": 49,
   "metadata": {},
   "outputs": [
    {
     "name": "stdout",
     "output_type": "stream",
     "text": [
      "95 % confidence interval = [98.12384615 98.37694231]\n"
     ]
    }
   ],
   "source": [
    "bs_replicates = draw_replicates(temp_np_arr, np.mean, 10000)\n",
    "\n",
    "# Compute the confidence interval\n",
    "conf_int = np.percentile(bs_replicates,[2.5, 97.5])\n",
    "\n",
    "# Print the confidence interval\n",
    "print('95 % confidence interval = {}'.format(conf_int))"
   ]
  },
  {
   "cell_type": "markdown",
   "metadata": {},
   "source": [
    "#### Conclusion: \n",
    "We would consider someone's body temperature lower than 98.12 or higher than 98.37 to be considered abnormal."
   ]
  },
  {
   "cell_type": "markdown",
   "metadata": {},
   "source": [
    "### b.Frequentist Approach"
   ]
  },
  {
   "cell_type": "code",
   "execution_count": 50,
   "metadata": {},
   "outputs": [
    {
     "name": "stdout",
     "output_type": "stream",
     "text": [
      "95 % confidence interval = [98.47230769 98.72769231]\n"
     ]
    }
   ],
   "source": [
    "translated_temp = temp_np_arr - np.mean(temp_np_arr) + 98.6\n",
    "\n",
    "# Take bootstrap replicates of body temperatures: temp_replicates\n",
    "temp_replicates = draw_replicates(translated_temp, np.mean, 10000)\n",
    "conf_int = np.percentile(temp_replicates, [2.5, 97.5])\n",
    "\n",
    "# Print the confidence interval\n",
    "print('95 % confidence interval = {}'.format(conf_int))"
   ]
  },
  {
   "cell_type": "markdown",
   "metadata": {},
   "source": [
    "#### Conclusion:\n",
    "We would consider someone's body temperature lower than 98.47 or higher than 98.72 to be considered abnormal. "
   ]
  },
  {
   "cell_type": "markdown",
   "metadata": {},
   "source": [
    "## 6. Is there a significant difference between males and females in normal temperature?"
   ]
  },
  {
   "cell_type": "markdown",
   "metadata": {},
   "source": [
    "### a. What test is used and why?"
   ]
  },
  {
   "cell_type": "markdown",
   "metadata": {},
   "source": [
    "A two-sample t-test is also appropriate since the means of two independent samples are compared. "
   ]
  },
  {
   "cell_type": "code",
   "execution_count": 42,
   "metadata": {},
   "outputs": [
    {
     "name": "stdout",
     "output_type": "stream",
     "text": [
      "Female Sample Size: 65 \n",
      "Female Temperature Mean: 98.39384615384613\n",
      "\n",
      "Male Sample Size: 65 \n",
      "Male Temperature Mean: 98.1046153846154\n"
     ]
    }
   ],
   "source": [
    "# Sample Sizes:\n",
    "female_temp = df.temperature[df.gender == 'F']\n",
    "male_temp = df.temperature[df.gender == 'M']\n",
    "\n",
    "n_female = len(female_temp)\n",
    "n_male = len(male_temp)\n",
    "\n",
    "# Sample Means:\n",
    "M_female = np.mean(female_temp)\n",
    "M_male = np.mean(male_temp)\n",
    "\n",
    "print('Female Sample Size:', n_female, '\\nFemale Temperature Mean:', M_female)\n",
    "print('\\nMale Sample Size:', n_male, '\\nMale Temperature Mean:', M_male)"
   ]
  },
  {
   "cell_type": "markdown",
   "metadata": {},
   "source": [
    "There is a difference between the mean temperatures of females and males in the sample data, but a statistical analysis will help determine if the difference is significant.\n",
    "\n",
    "Null Hypothesis: There is no significant difference between female and male normal human body temperature.\n",
    "\n",
    "$$H_0: \\mu_{females} - \\mu_{males} = 0$$\n",
    "Significance Level: 95% Confidence\n",
    "\n",
    "$$\\alpha = 0.05$$"
   ]
  },
  {
   "cell_type": "markdown",
   "metadata": {},
   "source": [
    "#### 2 Sample t-test:"
   ]
  },
  {
   "cell_type": "code",
   "execution_count": 52,
   "metadata": {},
   "outputs": [
    {
     "name": "stdout",
     "output_type": "stream",
     "text": [
      "Mean body temp of male samples:  98.1046153846154\n",
      "Mean body temp of female samples:  98.39384615384613\n",
      "The T-Statistic is 2 with a p-value of 0.023938264182934196\n"
     ]
    }
   ],
   "source": [
    "# We can again use a t-test as we are comparing the means from two samples\n",
    "male_temps = df.temperature[df.gender == 'M']\n",
    "female_temps = df.temperature[df.gender == 'F']\n",
    "\n",
    "print('Mean body temp of male samples: ', np.mean(male_temps))\n",
    "print('Mean body temp of female samples: ', np.mean(female_temps))\n",
    "\n",
    "gender_ttest, gender_pval = stats.ttest_ind(a=male_temps, b=female_temps, equal_var=False)\n",
    "print('The T-Statistic is %d with a p-value of %s' %(abs(gender_ttest), gender_pval))"
   ]
  },
  {
   "cell_type": "markdown",
   "metadata": {},
   "source": [
    "A two-sample t-test returned a t-statistic of 2 and p-value of 0.024, so here too, the null hypothesis is rejected. The difference in human body temperatures between females and males, though significant, is not extreme. Women tend to have a slightly higher body temperature."
   ]
  },
  {
   "cell_type": "markdown",
   "metadata": {},
   "source": [
    "### b. Write a story with your conclusion in the context of the original problem. "
   ]
  },
  {
   "cell_type": "markdown",
   "metadata": {},
   "source": [
    "In this case, we examined the temperature of human body using graphical, bootstrapping and frequestist methods.As a summary:\n",
    "\n",
    "For this research, we have 65 males and 65 females whom we used their temperature and heart rate values to examine the temperature of human body. From this sample group, it is easily observable that females's body temperature and heart rate value are higher than males's at first glance. \n",
    "\n",
    "After implementing graphical and functional methods, we concluded that our 130 records show normal distribution which means that there is an integrity in sample data. It may give us meaningful insights and answers about questions at hand. \n",
    "\n",
    "We are unable to say confidently the observations are independent as it is not evident whether they are unique people (and thus independent) or just periodic sampling of one male and one female subject. \n",
    "\n",
    "When we compare the temperatures between these two groups, we observed that female temperatures have some outliers. Besides that, our research showed us that there is a possitive correlation between body temperature and heart rate. What does it mean? If both of them increases and decreases in the same time direction. But based on the data at hand, we can not say there is a causation between each other. \n",
    "\n",
    "We went beyond in our reserch and made an assumption about body temperature. Our hypothesis was true population mean is really 98.6 degrees F. We used the sample bootstrap and frequentist testing and our p value which gives the createria to accept or reject the our hypothesis was too small accept our hypothesis. For taht reason, we rejected it. Is it shocking right? We did not expect that result also. But this is what our data tells about that. \n",
    "\n",
    "Just out of curosity, we kept the sample size too small, and made the t and z statistics. What do you think we ended up with those tests? It was waste of time? No, of course. We learned that keeping the sample size too small and expecting something reliable is not possible together. Because outcomes for reaching an conclusion change everytime when we test it. \n",
    "\n",
    "Have you ever think if you have a normal temperature? What is normal for body temperature? When we used this 130 ladies and gentlemen's data, we concluded that body temperature outside of 98.12-98.37 was seen as abnormal if we do the same test 10000 times. On the other hand, we used frequentist approach, abnormal temperature was defined outside of 98.47 - 98.72 interval.\n",
    "\n",
    "Lastly, we tested if there is a significant difference between males and females in normal temperature. We observed that the body temperatures of men and women had distinct distributions, with varying means and of course mean body of female groups are approximately 0.3 higher than males groups'."
   ]
  }
 ],
 "metadata": {
  "kernelspec": {
   "display_name": "Python 3",
   "language": "python",
   "name": "python3"
  },
  "language_info": {
   "codemirror_mode": {
    "name": "ipython",
    "version": 3
   },
   "file_extension": ".py",
   "mimetype": "text/x-python",
   "name": "python",
   "nbconvert_exporter": "python",
   "pygments_lexer": "ipython3",
   "version": "3.6.5"
  }
 },
 "nbformat": 4,
 "nbformat_minor": 2
}
